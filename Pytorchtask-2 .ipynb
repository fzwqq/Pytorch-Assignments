{
 "cells": [
  {
   "cell_type": "code",
   "execution_count": 9,
   "metadata": {},
   "outputs": [],
   "source": [
    "import torch\n",
    "import numpy as np\n",
    "from matplotlib import pyplot as plt\n",
    "from IPython import display\n",
    "from torch.autograd import Variable"
   ]
  },
  {
   "cell_type": "code",
   "execution_count": 42,
   "metadata": {},
   "outputs": [
    {
     "name": "stdout",
     "output_type": "stream",
     "text": [
      "tensor([8.4000])\n",
      "tensor([-18.4800])\n",
      "tensor([67.5360])\n",
      "tensor([-207.7152])\n",
      "tensor([673.0887])\n",
      "tensor([-2145.4844])\n",
      "tensor([6873.9502])\n",
      "tensor([-21988.2422])\n",
      "tensor([70370.7812])\n",
      "tensor([-225178.0938])\n",
      "params: w =  tensor([-225178.0938], requires_grad=True)\n"
     ]
    }
   ],
   "source": [
    "# keep the random seed \n",
    "torch.manual_seed(40)\n",
    "\n",
    "#  predict y = x ** 2\n",
    "x = Variable( torch.Tensor([[1.0] , [5.0] , [10.0]]))\n",
    "y = Variable( torch.Tensor([[2.0], [10.0] , [20.0]]))\n",
    "\n",
    "epochs = 10\n",
    "lr = 0.1\n",
    "#  auto grad\n",
    "w = Variable(torch.Tensor([0]) , requires_grad = True)\n",
    "cost = []\n",
    "\n",
    "for epoch in range(epochs):\n",
    "    yhat =  x * w\n",
    "    loss = torch.mean( 1/2 * (yhat - y) ** 2) \n",
    "#     convert to numpy  ???\n",
    "#     print(type())\n",
    "#     temp = loss.data.numpy()\n",
    "#     print(temp[0]\n",
    "#     cost.append(loss.data.from_numpy[0] )\n",
    "#     backward\n",
    "    loss.backward()\n",
    "#     update params\n",
    "    w.data = w.data - lr * w.grad.data\n",
    "#     \n",
    "    w.grad.data.zero_()\n",
    "    print(w.data)\n",
    "    \n",
    "print(\"params: w = \", w)\n",
    "    \n"
   ]
  },
  {
   "cell_type": "code",
   "execution_count": null,
   "metadata": {},
   "outputs": [],
   "source": []
  }
 ],
 "metadata": {
  "kernelspec": {
   "display_name": "Python 3",
   "language": "python",
   "name": "python3"
  },
  "language_info": {
   "codemirror_mode": {
    "name": "ipython",
    "version": 3
   },
   "file_extension": ".py",
   "mimetype": "text/x-python",
   "name": "python",
   "nbconvert_exporter": "python",
   "pygments_lexer": "ipython3",
   "version": "3.7.0"
  }
 },
 "nbformat": 4,
 "nbformat_minor": 2
}
