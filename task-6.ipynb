{
 "cells": [
  {
   "cell_type": "code",
   "execution_count": 1,
   "metadata": {},
   "outputs": [],
   "source": [
    "import torchvision as tv\n",
    "import torchvision.transforms as transforms\n",
    "from torchvision.transforms import ToPILImage\n"
   ]
  },
  {
   "cell_type": "markdown",
   "metadata": {},
   "source": [
    "# create dataset  "
   ]
  },
  {
   "cell_type": "code",
   "execution_count": 2,
   "metadata": {},
   "outputs": [],
   "source": [
    "show = ToPILImage()"
   ]
  },
  {
   "cell_type": "code",
   "execution_count": 3,
   "metadata": {},
   "outputs": [
    {
     "name": "stderr",
     "output_type": "stream",
     "text": [
      "\r",
      "0it [00:00, ?it/s]"
     ]
    },
    {
     "name": "stdout",
     "output_type": "stream",
     "text": [
      "Downloading https://www.cs.toronto.edu/~kriz/cifar-10-python.tar.gz to ./data/cifar-10-python.tar.gz\n"
     ]
    },
    {
     "name": "stderr",
     "output_type": "stream",
     "text": [
      "170500096it [10:39, 754771.19it/s]                                "
     ]
    }
   ],
   "source": [
    "transform = transforms.Compose([transforms.ToTensor(), \n",
    "                                transforms.Normalize((0.5, 0.5, 0.5), (0.5, 0.5, 0.5))]) #normalize\n",
    "# trainset\n",
    "trainset = tv.datasets.CIFAR10(\n",
    "    root = './data/',\n",
    "    train = True,\n",
    "    download = True,\n",
    "    transform = transform\n",
    ")"
   ]
  },
  {
   "cell_type": "code",
   "execution_count": 4,
   "metadata": {},
   "outputs": [
    {
     "name": "stdout",
     "output_type": "stream",
     "text": [
      "Files already downloaded and verified\n"
     ]
    }
   ],
   "source": [
    "import torch \n",
    "trainloader = torch.utils.data.DataLoader(\n",
    "    trainset, \n",
    "    batch_size = 4,\n",
    "    shuffle=True,\n",
    "    num_workers=2\n",
    ")\n",
    "# testset\n",
    "testset = tv.datasets.CIFAR10(\n",
    "    './data/',\n",
    "    train = False,\n",
    "    download = True,\n",
    "    transform = transform\n",
    ")\n",
    "\n",
    "testloader = torch.utils.data.DataLoader(\n",
    "    testset,\n",
    "    batch_size = 4,\n",
    "    shuffle = False,\n",
    "    num_workers = 2\n",
    ")\n",
    "# ??tv.datasets.CIFAR10"
   ]
  },
  {
   "cell_type": "code",
   "execution_count": 5,
   "metadata": {},
   "outputs": [],
   "source": [
    "classes = ('plane' , 'car', 'bird', 'cat', 'deer', 'dog', 'frog', 'horse', 'ship', 'truck')\n"
   ]
  },
  {
   "cell_type": "code",
   "execution_count": 6,
   "metadata": {},
   "outputs": [
    {
     "name": "stdout",
     "output_type": "stream",
     "text": [
      "car 1\n"
     ]
    },
    {
     "data": {
      "image/png": "[encoded data removed]",
      "text/plain": [
       "<PIL.Image.Image image mode=RGB size=50x50 at 0x11619EEF0>"
      ]
     },
     "execution_count": 6,
     "metadata": {},
     "output_type": "execute_result"
    }
   ],
   "source": [
    "(data , label) = trainset[60]\n",
    "print(classes[label],label)\n",
    "show((data+1)/2).resize((50,50))"
   ]
  },
  {
   "cell_type": "code",
   "execution_count": 7,
   "metadata": {},
   "outputs": [],
   "source": [
    "# dataiter = iter(trainloader)\n",
    "# images, labels = dataiter.next()"
   ]
  },
  {
   "cell_type": "markdown",
   "metadata": {},
   "source": [
    "# reconstruct NN"
   ]
  },
  {
   "cell_type": "code",
   "execution_count": 8,
   "metadata": {},
   "outputs": [],
   "source": [
    "import torch.nn as nn\n",
    "import torch.nn.functional as F"
   ]
  },
  {
   "cell_type": "code",
   "execution_count": 9,
   "metadata": {},
   "outputs": [
    {
     "data": {
      "text/plain": [
       "Net(\n",
       "  (conv1): Conv2d(3, 6, kernel_size=(5, 5), stride=(1, 1))\n",
       "  (conv2): Conv2d(6, 16, kernel_size=(5, 5), stride=(1, 1))\n",
       "  (fc1): Linear(in_features=400, out_features=120, bias=True)\n",
       "  (fc2): Linear(in_features=120, out_features=84, bias=True)\n",
       "  (fc3): Linear(in_features=84, out_features=10, bias=True)\n",
       ")"
      ]
     },
     "execution_count": 9,
     "metadata": {},
     "output_type": "execute_result"
    }
   ],
   "source": [
    "class Net(nn.Module):\n",
    "    def __init__(self):\n",
    "        super(Net,self).__init__()\n",
    "        self.conv1 = nn.Conv2d(3, 6, 5)\n",
    "        self.conv2 = nn.Conv2d(6, 16, 5)\n",
    "        self.fc1   = nn.Linear(16*5*5, 120)\n",
    "        self.fc2   = nn.Linear(120, 84)\n",
    "        self.fc3   = nn.Linear(84, 10)\n",
    "#         forward funtion\n",
    "    def forward(self, x):\n",
    "        x = F.max_pool2d(F.relu(self.conv1(x)), (2,2))\n",
    "        x = F.max_pool2d(F.relu(self.conv2(x)), 2)\n",
    "        x = x.view(x.size()[0], -1)\n",
    "        x = F.relu(self.fc1(x))\n",
    "        x = F.relu(self.fc2(x))\n",
    "        x = self.fc3(x)\n",
    "        \n",
    "        return x\n",
    "net = Net()\n",
    "net"
   ]
  },
  {
   "cell_type": "code",
   "execution_count": 10,
   "metadata": {},
   "outputs": [],
   "source": [
    "from torch import optim\n",
    "criterion = nn.CrossEntropyLoss()\n",
    "optimizer = optim.SGD(net.parameters() , lr = 0.001 , momentum = 0.9)\n"
   ]
  },
  {
   "cell_type": "code",
   "execution_count": 12,
   "metadata": {},
   "outputs": [],
   "source": [
    "SGD = optim.SGD(net.parameters(), lr= 0.001)\n",
    "Adam = optim.Adam(net.parameters(), lr= 0.001 , betas=(0.9, 0.99))\n",
    "RMSprop = optim.RMSprop(net.parameters(), lr=0.001, alpha=0.9)\n",
    "Momentum = optim.SGD(net.parameters(), lr= 0.001, momentum=0.9)"
   ]
  },
  {
   "cell_type": "code",
   "execution_count": null,
   "metadata": {},
   "outputs": [
    {
     "name": "stderr",
     "output_type": "stream",
     "text": [
      "\r",
      "170500096it [10:50, 754771.19it/s]"
     ]
    }
   ],
   "source": [
    "torch.set_num_threads(8)\n",
    "for epoch in range(2):\n",
    "    \n",
    "    running_loss = 0.0\n",
    "    for i , data in enumerate(trainloader , 0):\n",
    "        inputs , labels = data\n",
    "        \n",
    "        optimizer.zero_grad()\n",
    "        \n",
    "        outputs = net(inputs)\n",
    "        loss = criterion(outputs, labels)\n",
    "        loss.backward()\n",
    "        \n",
    "        optimizer.step()\n",
    "        running_loss += loss.item()\n",
    "        if i % 1000 == 999 :\n",
    "            print( '[%d, %5d] loss: %.3f' %(epoch + 1 , i + 1, running_loss/1000)) \n",
    "            running_loss = 0.0"
   ]
  },
  {
   "cell_type": "code",
   "execution_count": 13,
   "metadata": {},
   "outputs": [],
   "source": [
    "def optim_choice(param):\n",
    "    if param == 'SGD':\n",
    "        return SGD\n",
    "    elif param == 'Adam':\n",
    "        return Adam\n",
    "    elif param == 'RMSprop':\n",
    "        return RMSprop\n",
    "    elif param == 'Momentum':\n",
    "        return Momentum"
   ]
  },
  {
   "cell_type": "code",
   "execution_count": 27,
   "metadata": {},
   "outputs": [
    {
     "name": "stdout",
     "output_type": "stream",
     "text": [
      "optims:  SGD\n",
      "[1,  1000] loss: 1.687\n",
      "[1,  2000] loss: 1.625\n",
      "[1,  3000] loss: 1.586\n",
      "[1,  4000] loss: 1.613\n",
      "[1,  5000] loss: 1.584\n",
      "[1,  6000] loss: 1.579\n",
      "[1,  7000] loss: 1.576\n",
      "[1,  8000] loss: 1.572\n",
      "[1,  9000] loss: 1.553\n",
      "[1, 10000] loss: 1.537\n",
      "[1, 11000] loss: 1.546\n",
      "[1, 12000] loss: 1.527\n",
      "[2,  1000] loss: 1.522\n",
      "[2,  2000] loss: 1.514\n",
      "[2,  3000] loss: 1.512\n",
      "[2,  4000] loss: 1.496\n",
      "[2,  5000] loss: 1.469\n",
      "[2,  6000] loss: 1.483\n",
      "[2,  7000] loss: 1.480\n",
      "[2,  8000] loss: 1.483\n",
      "[2,  9000] loss: 1.444\n",
      "[2, 10000] loss: 1.442\n",
      "[2, 11000] loss: 1.505\n",
      "[2, 12000] loss: 1.444\n",
      "optims:  Adam\n",
      "[1,  1000] loss: 1.541\n",
      "[1,  2000] loss: 1.531\n",
      "[1,  3000] loss: 1.492\n",
      "[1,  4000] loss: 1.478\n",
      "[1,  5000] loss: 1.481\n",
      "[1,  6000] loss: 1.428\n",
      "[1,  7000] loss: 1.426\n",
      "[1,  8000] loss: 1.422\n",
      "[1,  9000] loss: 1.390\n",
      "[1, 10000] loss: 1.369\n",
      "[1, 11000] loss: 1.357\n",
      "[1, 12000] loss: 1.379\n",
      "[2,  1000] loss: 1.323\n",
      "[2,  2000] loss: 1.310\n",
      "[2,  3000] loss: 1.321\n",
      "[2,  4000] loss: 1.328\n",
      "[2,  5000] loss: 1.306\n",
      "[2,  6000] loss: 1.309\n",
      "[2,  7000] loss: 1.306\n",
      "[2,  8000] loss: 1.276\n",
      "[2,  9000] loss: 1.251\n",
      "[2, 10000] loss: 1.270\n",
      "[2, 11000] loss: 1.308\n",
      "[2, 12000] loss: 1.304\n",
      "optims:  RMSprop\n",
      "[1,  1000] loss: 1.268\n",
      "[1,  2000] loss: 1.273\n",
      "[1,  3000] loss: 1.297\n",
      "[1,  4000] loss: 1.339\n",
      "[1,  5000] loss: 1.346\n",
      "[1,  6000] loss: 1.378\n",
      "[1,  7000] loss: 1.390\n",
      "[1,  8000] loss: 1.470\n",
      "[1,  9000] loss: 1.454\n",
      "[1, 10000] loss: 1.481\n",
      "[1, 11000] loss: 1.501\n",
      "[1, 12000] loss: 1.497\n",
      "[2,  1000] loss: 1.480\n",
      "[2,  2000] loss: 1.509\n",
      "[2,  3000] loss: 1.538\n",
      "[2,  4000] loss: 1.548\n",
      "[2,  5000] loss: 1.534\n",
      "[2,  6000] loss: 1.520\n",
      "[2,  7000] loss: 1.576\n",
      "[2,  8000] loss: 1.609\n",
      "[2,  9000] loss: 1.559\n",
      "[2, 10000] loss: 1.564\n",
      "[2, 11000] loss: 1.594\n",
      "[2, 12000] loss: 1.585\n",
      "optims:  Momentum\n",
      "[1,  1000] loss: 2.440\n",
      "[1,  2000] loss: 2.312\n",
      "[1,  3000] loss: 2.304\n",
      "[1,  4000] loss: 2.303\n",
      "[1,  5000] loss: 2.304\n",
      "[1,  6000] loss: 2.304\n",
      "[1,  7000] loss: 2.303\n",
      "[1,  8000] loss: 2.303\n",
      "[1,  9000] loss: 2.304\n",
      "[1, 10000] loss: 2.303\n",
      "[1, 11000] loss: 2.303\n",
      "[1, 12000] loss: 2.303\n",
      "[2,  1000] loss: 2.303\n",
      "[2,  2000] loss: 2.303\n",
      "[2,  3000] loss: 2.304\n",
      "[2,  4000] loss: 2.304\n",
      "[2,  5000] loss: 2.303\n",
      "[2,  6000] loss: 2.303\n",
      "[2,  7000] loss: 2.303\n",
      "[2,  8000] loss: 2.303\n",
      "[2,  9000] loss: 2.303\n",
      "[2, 10000] loss: 2.303\n",
      "[2, 11000] loss: 2.303\n",
      "[2, 12000] loss: 2.303\n"
     ]
    }
   ],
   "source": [
    "torch.set_num_threads(8)\n",
    "optims = ['SGD', 'Adam', 'RMSprop', 'Momentum']\n",
    "\n",
    "for optim in optims:\n",
    "    \n",
    "    print('optims: ', optim)\n",
    "    optimizer = optim_choice(optim)\n",
    "    \n",
    "    for epoch in range(2):\n",
    "\n",
    "        running_loss = 0.0\n",
    "        for i , data in enumerate(trainloader , 0):\n",
    "            inputs , labels = data\n",
    "\n",
    "            optimizer = optim_choice(optim)\n",
    "\n",
    "            optimizer.zero_grad()\n",
    "\n",
    "            outputs = net(inputs)\n",
    "            loss = criterion(outputs, labels)\n",
    "            loss.backward()\n",
    "\n",
    "            optimizer.step()\n",
    "            running_loss += loss.item()\n",
    "\n",
    "            if i % 1000 == 999 :\n",
    "                print( '[%d, %5d] loss: %.3f' %(epoch + 1 , i + 1, running_loss/1000)) \n",
    "                running_loss = 0.0\n"
   ]
  },
  {
   "cell_type": "code",
   "execution_count": null,
   "metadata": {},
   "outputs": [],
   "source": []
  },
  {
   "cell_type": "code",
   "execution_count": null,
   "metadata": {},
   "outputs": [],
   "source": []
  }
 ],
 "metadata": {
  "kernelspec": {
   "display_name": "Python 3",
   "language": "python",
   "name": "python3"
  },
  "language_info": {
   "codemirror_mode": {
    "name": "ipython",
    "version": 3
   },
   "file_extension": ".py",
   "mimetype": "text/x-python",
   "name": "python",
   "nbconvert_exporter": "python",
   "pygments_lexer": "ipython3",
   "version": "3.7.0"
  }
 },
 "nbformat": 4,
 "nbformat_minor": 2
}
