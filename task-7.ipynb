{
 "cells": [
  {
   "cell_type": "code",
   "execution_count": 45,
   "metadata": {},
   "outputs": [],
   "source": [
    "import torch\n",
    "import torch.nn as nn\n",
    "import torch.nn.functional as F\n",
    "import torchvision as tv\n",
    "import torchvision.transforms as transforms\n",
    "from torchvision.transforms import ToPILImage"
   ]
  },
  {
   "cell_type": "code",
   "execution_count": 68,
   "metadata": {},
   "outputs": [],
   "source": [
    "transform = transforms.Compose([transforms.ToTensor(), # [0,1]\n",
    "                                transforms.Normalize((0.5,) , (0.5,)) # Normalize\n",
    "                               ])\n"
   ]
  },
  {
   "cell_type": "code",
   "execution_count": 69,
   "metadata": {},
   "outputs": [],
   "source": [
    "trainset = tv.datasets.MNIST('./MNIST/' , train = True , transform = transform,  download = True)\n",
    "trainloader = torch.utils.data.DataLoader(\n",
    "    trainset,\n",
    "    batch_size = 4,\n",
    "    shuffle = True,\n",
    "    num_workers = 2\n",
    ")\n"
   ]
  },
  {
   "cell_type": "code",
   "execution_count": 70,
   "metadata": {},
   "outputs": [],
   "source": [
    "testset = tv.datasets.MNIST('./MNIST/', train = False,  transform = transform , download = True)\n",
    "testloader = torch.utils.data.DataLoader(\n",
    "    testset,\n",
    "    batch_size = 4,\n",
    "    shuffle = False,\n",
    "    num_workers = 2\n",
    ")"
   ]
  },
  {
   "cell_type": "code",
   "execution_count": 71,
   "metadata": {},
   "outputs": [],
   "source": [
    "# !ls "
   ]
  },
  {
   "cell_type": "code",
   "execution_count": 72,
   "metadata": {},
   "outputs": [],
   "source": [
    "classes = ('0','1','2','3','4','5','6','7','8','9')\n",
    "# for i in range(10):\n",
    "#     classes.append(str(i))\n",
    "# classes"
   ]
  },
  {
   "cell_type": "code",
   "execution_count": 73,
   "metadata": {},
   "outputs": [
    {
     "name": "stderr",
     "output_type": "stream",
     "text": [
      "Exception ignored in: <function _DataLoaderIter.__del__ at 0x113d7ab70>\n",
      "Traceback (most recent call last):\n",
      "  File \"/usr/local/lib/python3.7/site-packages/torch/utils/data/dataloader.py\", line 717, in __del__\n",
      "    self._shutdown_workers()\n",
      "  File \"/usr/local/lib/python3.7/site-packages/torch/utils/data/dataloader.py\", line 713, in _shutdown_workers\n",
      "    w.join()\n",
      "  File \"/usr/local/Cellar/python/3.7.0/Frameworks/Python.framework/Versions/3.7/lib/python3.7/multiprocessing/process.py\", line 140, in join\n",
      "    res = self._popen.wait(timeout)\n",
      "  File \"/usr/local/Cellar/python/3.7.0/Frameworks/Python.framework/Versions/3.7/lib/python3.7/multiprocessing/popen_fork.py\", line 48, in wait\n",
      "    return self.poll(os.WNOHANG if timeout == 0.0 else 0)\n",
      "  File \"/usr/local/Cellar/python/3.7.0/Frameworks/Python.framework/Versions/3.7/lib/python3.7/multiprocessing/popen_fork.py\", line 28, in poll\n",
      "    pid, sts = os.waitpid(self.pid, flag)\n",
      "KeyboardInterrupt: \n"
     ]
    },
    {
     "data": {
      "image/png": "[encoded data removed]",
      "text/plain": [
       "<Figure size 432x288 with 1 Axes>"
      ]
     },
     "metadata": {
      "needs_background": "light"
     },
     "output_type": "display_data"
    },
    {
     "data": {
      "image/png": "[encoded data removed]",
      "text/plain": [
       "<Figure size 432x288 with 1 Axes>"
      ]
     },
     "metadata": {
      "needs_background": "light"
     },
     "output_type": "display_data"
    },
    {
     "data": {
      "image/png": "[encoded data removed]",
      "text/plain": [
       "<Figure size 432x288 with 1 Axes>"
      ]
     },
     "metadata": {
      "needs_background": "light"
     },
     "output_type": "display_data"
    },
    {
     "data": {
      "image/png": "[encoded data removed]",
      "text/plain": [
       "<Figure size 432x288 with 1 Axes>"
      ]
     },
     "metadata": {
      "needs_background": "light"
     },
     "output_type": "display_data"
    },
    {
     "data": {
      "image/png": "[encoded data removed]",
      "text/plain": [
       "<Figure size 432x288 with 1 Axes>"
      ]
     },
     "metadata": {
      "needs_background": "light"
     },
     "output_type": "display_data"
    }
   ],
   "source": [
    "%matplotlib inline\n",
    "# show some pictures\n",
    "import matplotlib.pyplot  as plt\n",
    "for i in range(5):\n",
    "    plt.figure()\n",
    "    plt.imshow(trainloader.dataset.data[i].numpy())"
   ]
  },
  {
   "cell_type": "code",
   "execution_count": 83,
   "metadata": {},
   "outputs": [
    {
     "data": {
      "text/plain": [
       "LeNet5(\n",
       "  (conv1): Conv2d(1, 6, kernel_size=(5, 5), stride=(1, 1), padding=(2, 2))\n",
       "  (conv2): Conv2d(6, 16, kernel_size=(5, 5), stride=(1, 1))\n",
       "  (fc1): Linear(in_features=400, out_features=120, bias=True)\n",
       "  (fc2): Linear(in_features=120, out_features=84, bias=True)\n",
       "  (fc3): Linear(in_features=84, out_features=10, bias=True)\n",
       ")"
      ]
     },
     "execution_count": 83,
     "metadata": {},
     "output_type": "execute_result"
    }
   ],
   "source": [
    "class LeNet5(nn.Module):\n",
    "    def __init__(self):\n",
    "        super(LeNet5,self).__init__()\n",
    "\n",
    "        self.conv1 = nn.Conv2d(1, 6, 5, padding = 2)        \n",
    "        self.conv2 = nn.Conv2d(6, 16, 5)\n",
    "        \n",
    "        self.fc1 = nn.Linear(16*5*5 , 120)\n",
    "        self.fc2 = nn.Linear(120, 84) \n",
    "        self.fc3 = nn.Linear(84, 10)\n",
    "        \n",
    "    def forward(self, x):\n",
    "#         卷积  , 激活 , 池化\n",
    "        x = F.max_pool2d(F.tanh(self.conv1(x)), (2,2))\n",
    "#         正则化\n",
    "        x = F.dropout(x , p = 0.3 , training = self.training)\n",
    "        \n",
    "        x = F.max_pool2d(F.tanh(self.conv2(x)), 2)\n",
    "        \n",
    "        x = F.dropout(x, p = 0.3, training = self.training)\n",
    "        \n",
    "        x = x.view(x.size()[0], -1)\n",
    "#         全连接layer: \n",
    "        x = F.tanh(self.fc1(x))\n",
    "    \n",
    "        x = F.dropout(x , p = 0.3, training = self.training)\n",
    "        \n",
    "        x = F.tanh(self.fc2(x))\n",
    "        \n",
    "        x = F.dropout(x , p = 0.3, training = self.training)\n",
    "        \n",
    "        x = self.fc3(x)\n",
    "        return x\n",
    "\n",
    "LeNet = LeNet5()\n",
    "LeNet"
   ]
  },
  {
   "cell_type": "code",
   "execution_count": 84,
   "metadata": {},
   "outputs": [],
   "source": [
    "# loss -> criterion\n",
    "# backward\n",
    "# optim\n",
    "# \n",
    "learning_rate = 0.001\n",
    "epochs = 10\n",
    "\n",
    "from torch import optim\n",
    "criterion = nn.CrossEntropyLoss()\n",
    "Adam_optimizer = torch.optim.Adam(LeNet.parameters() , lr = learning_rate , betas = (0.9,0.99)) \n"
   ]
  },
  {
   "cell_type": "code",
   "execution_count": 86,
   "metadata": {},
   "outputs": [
    {
     "name": "stdout",
     "output_type": "stream",
     "text": [
      "[1,  1000] loss: 0.751\n",
      "[1,  2000] loss: 0.356\n",
      "[1,  3000] loss: 0.304\n",
      "[1,  4000] loss: 0.285\n",
      "[1,  5000] loss: 0.283\n",
      "[1,  6000] loss: 0.260\n",
      "[1,  7000] loss: 0.239\n",
      "[1,  8000] loss: 0.222\n",
      "[1,  9000] loss: 0.217\n",
      "[1, 10000] loss: 0.214\n",
      "[1, 11000] loss: 0.202\n",
      "[1, 12000] loss: 0.224\n",
      "[1, 13000] loss: 0.192\n",
      "[1, 14000] loss: 0.202\n",
      "[1, 15000] loss: 0.180\n",
      "[2,  1000] loss: 0.179\n",
      "[2,  2000] loss: 0.176\n",
      "[2,  3000] loss: 0.183\n",
      "[2,  4000] loss: 0.180\n",
      "[2,  5000] loss: 0.187\n",
      "[2,  6000] loss: 0.179\n",
      "[2,  7000] loss: 0.188\n",
      "[2,  8000] loss: 0.175\n",
      "[2,  9000] loss: 0.182\n",
      "[2, 10000] loss: 0.161\n",
      "[2, 11000] loss: 0.204\n",
      "[2, 12000] loss: 0.170\n",
      "[2, 13000] loss: 0.162\n",
      "[2, 14000] loss: 0.174\n",
      "[2, 15000] loss: 0.148\n"
     ]
    }
   ],
   "source": [
    "torch.set_num_threads(8)\n",
    "for epoch in range(2):\n",
    "    \n",
    "    running_loss = 0.0\n",
    "    for i , data in enumerate(trainloader , 0):\n",
    "        inputs , labels = data\n",
    "        \n",
    "        Adam_optimizer.zero_grad()\n",
    "        \n",
    "        outputs = LeNet(inputs)\n",
    "        loss = criterion(outputs, labels)\n",
    "        loss.backward()\n",
    "        \n",
    "        Adam_optimizer.step()\n",
    "        running_loss += loss.item()\n",
    "        if i % 1000 == 999 :\n",
    "            print( '[%d, %5d] loss: %.3f' %(epoch + 1 , i + 1, running_loss/1000)) \n",
    "            running_loss = 0.0"
   ]
  },
  {
   "cell_type": "code",
   "execution_count": 98,
   "metadata": {},
   "outputs": [],
   "source": [
    "def test():\n",
    "    test_loss = 0\n",
    "    correct = 0\n",
    "    for data, target in testloader:\n",
    "        output = LeNet(data)\n",
    "        test_loss += criterion(output, target)\n",
    "        pred = output.data.max(1, keepdim = True)[1]\n",
    "        correct += pred.eq(target.data.view_as(pred)).cpu().sum()\n",
    "     \n",
    "    test_loss /= len(testloader.dataset)\n",
    "    print('\\nTest set: Average loss: {:.4f}, Accuracy: {}/{} ({:.0f}%)\\n'.format(test_loss, correct , len(testloader.dataset), 100. * correct / len(testloader.dataset)))\n",
    "    "
   ]
  },
  {
   "cell_type": "code",
   "execution_count": 99,
   "metadata": {},
   "outputs": [
    {
     "name": "stdout",
     "output_type": "stream",
     "text": [
      "\n",
      "Test set: Average loss: 0.0445, Accuracy: 9485/10000 (94%)\n",
      "\n",
      "\n",
      "Test set: Average loss: 0.0461, Accuracy: 9452/10000 (94%)\n",
      "\n"
     ]
    }
   ],
   "source": [
    "for epoch in range(2):\n",
    "    test()\n"
   ]
  },
  {
   "cell_type": "code",
   "execution_count": null,
   "metadata": {},
   "outputs": [],
   "source": []
  }
 ],
 "metadata": {
  "kernelspec": {
   "display_name": "Python 3",
   "language": "python",
   "name": "python3"
  },
  "language_info": {
   "codemirror_mode": {
    "name": "ipython",
    "version": 3
   },
   "file_extension": ".py",
   "mimetype": "text/x-python",
   "name": "python",
   "nbconvert_exporter": "python",
   "pygments_lexer": "ipython3",
   "version": "3.7.0"
  }
 },
 "nbformat": 4,
 "nbformat_minor": 2
}
