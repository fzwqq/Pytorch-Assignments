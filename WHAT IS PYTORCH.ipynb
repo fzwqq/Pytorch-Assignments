{
 "cells": [
  {
   "cell_type": "markdown",
   "metadata": {},
   "source": [
    "## DEEP LEARNING WITH PYTORCH: A 60 MINUTE BLITZ\n",
    "### what is PyTorch\n",
    "#### Tensors"
   ]
  },
  {
   "cell_type": "code",
   "execution_count": 1,
   "metadata": {},
   "outputs": [],
   "source": [
    "from __future__ import print_function\n",
    "import torch"
   ]
  },
  {
   "cell_type": "code",
   "execution_count": 2,
   "metadata": {},
   "outputs": [
    {
     "name": "stdout",
     "output_type": "stream",
     "text": [
      "tensor([[0.0000e+00, 4.6566e-10, 0.0000e+00],\n",
      "        [4.6566e-10, 9.3079e-04, 1.7743e+28],\n",
      "        [1.0918e+18, 1.3032e-43, 0.0000e+00],\n",
      "        [0.0000e+00, 0.0000e+00, 0.0000e+00],\n",
      "        [0.0000e+00, 0.0000e+00, 0.0000e+00]])\n"
     ]
    }
   ],
   "source": [
    "# Construct a 5x3 matrix, uninitialized: ???\n",
    "x = torch.empty(5,3) \n",
    "print(x)"
   ]
  },
  {
   "cell_type": "markdown",
   "metadata": {},
   "source": [
    "Construct a randomly initialized matrix:"
   ]
  },
  {
   "cell_type": "code",
   "execution_count": 3,
   "metadata": {},
   "outputs": [
    {
     "data": {
      "text/plain": [
       "tensor([[0.4890, 0.1359, 0.3772, 0.0274],\n",
       "        [0.7642, 0.6477, 0.3606, 0.5396],\n",
       "        [0.9184, 0.2816, 0.1178, 0.2443],\n",
       "        [0.8689, 0.8764, 0.9413, 0.1996],\n",
       "        [0.2205, 0.5871, 0.1635, 0.3762],\n",
       "        [0.7886, 0.1407, 0.1391, 0.7241]])"
      ]
     },
     "execution_count": 3,
     "metadata": {},
     "output_type": "execute_result"
    }
   ],
   "source": [
    "x = torch.rand(6,4)\n",
    "x"
   ]
  },
  {
   "cell_type": "markdown",
   "metadata": {},
   "source": [
    "Construct a matrix filled zeros and of dtype long:"
   ]
  },
  {
   "cell_type": "code",
   "execution_count": 4,
   "metadata": {},
   "outputs": [
    {
     "name": "stdout",
     "output_type": "stream",
     "text": [
      "tensor([[0, 0, 0],\n",
      "        [0, 0, 0],\n",
      "        [0, 0, 0],\n",
      "        [0, 0, 0],\n",
      "        [0, 0, 0]])\n"
     ]
    }
   ],
   "source": [
    "x = torch.zeros(5, 3 ,dtype = torch.long)\n",
    "print(x)"
   ]
  },
  {
   "cell_type": "markdown",
   "metadata": {},
   "source": [
    "Construct a tensor directly from data:\n",
    "create a tensor based on an existing tensor. These methods will reuse properties of the input tensor, **e.g. dtype, unless new values are provided by user**"
   ]
  },
  {
   "cell_type": "code",
   "execution_count": 5,
   "metadata": {},
   "outputs": [
    {
     "name": "stdout",
     "output_type": "stream",
     "text": [
      "tensor([5.1000, 4.0000])\n",
      "tensor([-0.8190, -0.3291])\n"
     ]
    }
   ],
   "source": [
    "x = torch.tensor([5.1,4])\n",
    "print(x)\n",
    "x = torch.randn_like(x, dtype = torch.float)\n",
    "print(x)"
   ]
  },
  {
   "cell_type": "code",
   "execution_count": 6,
   "metadata": {},
   "outputs": [
    {
     "name": "stdout",
     "output_type": "stream",
     "text": [
      "tensor([[1., 1., 1., 1.],\n",
      "        [1., 1., 1., 1.],\n",
      "        [1., 1., 1., 1.]], dtype=torch.float64) torch.Size([3, 4])\n"
     ]
    }
   ],
   "source": [
    "x = x.new_ones(3,4, dtype = torch.double)\n",
    "print(x,x.size())"
   ]
  },
  {
   "cell_type": "markdown",
   "metadata": {},
   "source": [
    "**Addition \"+\" ** "
   ]
  },
  {
   "cell_type": "code",
   "execution_count": 11,
   "metadata": {},
   "outputs": [
    {
     "name": "stdout",
     "output_type": "stream",
     "text": [
      "tensor([[1.3422, 1.2544, 1.8863, 1.3379],\n",
      "        [1.9280, 1.8093, 1.1717, 1.7313],\n",
      "        [1.9891, 1.1940, 1.4984, 1.6921]], dtype=torch.float64)\n",
      "tensor([[1.3422, 1.2544, 1.8863, 1.3379],\n",
      "        [1.9280, 1.8093, 1.1717, 1.7313],\n",
      "        [1.9891, 1.1940, 1.4984, 1.6921]], dtype=torch.float64)\n",
      "tensor([[1.3422, 1.2544, 1.8863, 1.3379],\n",
      "        [1.9280, 1.8093, 1.1717, 1.7313],\n",
      "        [1.9891, 1.1940, 1.4984, 1.6921]], dtype=torch.float64)\n",
      "tensor([[1.3422, 1.2544, 1.8863, 1.3379],\n",
      "        [1.9280, 1.8093, 1.1717, 1.7313],\n",
      "        [1.9891, 1.1940, 1.4984, 1.6921]], dtype=torch.float64)\n"
     ]
    }
   ],
   "source": [
    "y = torch.rand(3, 4, dtype=torch.double )\n",
    "print(x+y)\n",
    "\n",
    "print(torch.add(x, y))\n",
    "result = torch.empty(3,4, dtype = torch.double)\n",
    "print(torch.add(x,y, out = result))\n",
    "print(result)"
   ]
  },
  {
   "cell_type": "code",
   "execution_count": null,
   "metadata": {},
   "outputs": [],
   "source": [
    "z = torch.tensor([1,2])\n",
    "z = z.new_ones(2, 4, dtype = torch.long)\n",
    "print(z)"
   ]
  },
  {
   "cell_type": "code",
   "execution_count": 12,
   "metadata": {},
   "outputs": [
    {
     "data": {
      "text/plain": [
       "tensor([[1.3422, 1.2544, 1.8863, 1.3379],\n",
       "        [1.9280, 1.8093, 1.1717, 1.7313],\n",
       "        [1.9891, 1.1940, 1.4984, 1.6921]], dtype=torch.float64)"
      ]
     },
     "execution_count": 12,
     "metadata": {},
     "output_type": "execute_result"
    }
   ],
   "source": [
    "y.add_(x)"
   ]
  },
  {
   "cell_type": "code",
   "execution_count": 13,
   "metadata": {},
   "outputs": [
    {
     "name": "stdout",
     "output_type": "stream",
     "text": [
      "tensor([1., 1., 1.], dtype=torch.float64)\n"
     ]
    }
   ],
   "source": [
    "print(x[:,1])"
   ]
  },
  {
   "cell_type": "code",
   "execution_count": 26,
   "metadata": {},
   "outputs": [
    {
     "name": "stdout",
     "output_type": "stream",
     "text": [
      "tensor([[-0.2169, -1.1567,  0.4875,  0.3804],\n",
      "        [-1.1352,  0.2438,  0.3438,  0.9655],\n",
      "        [-1.2870, -0.7361, -0.9815,  1.3824],\n",
      "        [-1.4966,  0.1513,  0.7213,  0.1252]])\n",
      "tensor([-0.2169, -1.1567,  0.4875,  0.3804, -1.1352,  0.2438,  0.3438,  0.9655,\n",
      "        -1.2870, -0.7361, -0.9815,  1.3824, -1.4966,  0.1513,  0.7213,  0.1252])\n",
      "tensor([[-0.2169, -1.1567],\n",
      "        [ 0.4875,  0.3804],\n",
      "        [-1.1352,  0.2438],\n",
      "        [ 0.3438,  0.9655],\n",
      "        [-1.2870, -0.7361],\n",
      "        [-0.9815,  1.3824],\n",
      "        [-1.4966,  0.1513],\n",
      "        [ 0.7213,  0.1252]])\n",
      "tensor([[-0.2169, -1.1567],\n",
      "        [ 0.4875,  0.3804],\n",
      "        [-1.1352,  0.2438],\n",
      "        [ 0.3438,  0.9655],\n",
      "        [-1.2870, -0.7361],\n",
      "        [-0.9815,  1.3824],\n",
      "        [-1.4966,  0.1513],\n",
      "        [ 0.7213,  0.1252]])\n",
      "tensor([[-0.2169, -1.1567,  0.4875,  0.3804, -1.1352,  0.2438,  0.3438,  0.9655],\n",
      "        [-1.2870, -0.7361, -0.9815,  1.3824, -1.4966,  0.1513,  0.7213,  0.1252]])\n",
      "torch.Size([4, 4]) torch.Size([16]) torch.Size([2, 8])\n"
     ]
    }
   ],
   "source": [
    "x = torch.randn(4,4) \n",
    "print(x)\n",
    "y = x.view(16) \n",
    "print(y)\n",
    "z = x.view(-1, 8)\n",
    "t = x.view(-1,2)\n",
    "tt = x.view(8,2)\n",
    "print(tt)\n",
    "print(t)\n",
    "print(z)\n",
    "print(x.size() , y.size(), z.size()) "
   ]
  },
  {
   "cell_type": "code",
   "execution_count": 22,
   "metadata": {},
   "outputs": [
    {
     "name": "stdout",
     "output_type": "stream",
     "text": [
      "tensor([-0.4863])\n",
      "-0.48626407980918884\n"
     ]
    }
   ],
   "source": [
    "x = torch.randn(1)\n",
    "print(x)\n",
    "print(x.item())"
   ]
  },
  {
   "cell_type": "code",
   "execution_count": 33,
   "metadata": {},
   "outputs": [
    {
     "name": "stdout",
     "output_type": "stream",
     "text": [
      "tensor([1., 1., 1., 1., 1.])\n",
      "<class 'float'>\n"
     ]
    }
   ],
   "source": [
    "a = torch.ones(5)\n",
    "print(a)\n",
    "print(type(a[0].item()))"
   ]
  },
  {
   "cell_type": "code",
   "execution_count": 34,
   "metadata": {},
   "outputs": [
    {
     "data": {
      "text/plain": [
       "tensor([2., 2., 2., 2., 2.])"
      ]
     },
     "execution_count": 34,
     "metadata": {},
     "output_type": "execute_result"
    }
   ],
   "source": [
    "a.add_(1)"
   ]
  },
  {
   "cell_type": "code",
   "execution_count": 40,
   "metadata": {},
   "outputs": [
    {
     "name": "stdout",
     "output_type": "stream",
     "text": [
      "tensor([32., 32., 32., 32., 32.])\n"
     ]
    }
   ],
   "source": [
    "a = torch.add(a,a)\n",
    "print(a)"
   ]
  },
  {
   "cell_type": "markdown",
   "metadata": {},
   "source": [
    "### converting numpy array to Torch tensor ; vice versa"
   ]
  },
  {
   "cell_type": "code",
   "execution_count": 50,
   "metadata": {},
   "outputs": [
    {
     "name": "stdout",
     "output_type": "stream",
     "text": [
      "[[1. 1.]\n",
      " [1. 1.]]\n",
      "tensor([[1., 1.],\n",
      "        [1., 1.]], dtype=torch.float64)\n"
     ]
    }
   ],
   "source": [
    "import numpy as np\n",
    "a = np.ones([2,2])\n",
    "print(a)\n",
    "b = torch.from_numpy(a)\n",
    "print(b)"
   ]
  },
  {
   "cell_type": "code",
   "execution_count": 75,
   "metadata": {},
   "outputs": [
    {
     "name": "stdout",
     "output_type": "stream",
     "text": [
      "tensor([1., 1., 1., 1., 1.])\n",
      "[1. 1. 1. 1. 1.]\n",
      "[2. 2. 2. 2. 2.] tensor([1., 1., 1., 1., 1.])\n"
     ]
    }
   ],
   "source": [
    "b = torch.ones(5)\n",
    "print(b)\n",
    "c = b.numpy()\n",
    "print(c)\n",
    "print(a, b)"
   ]
  },
  {
   "cell_type": "code",
   "execution_count": null,
   "metadata": {},
   "outputs": [],
   "source": []
  }
 ],
 "metadata": {
  "kernelspec": {
   "display_name": "Python 3",
   "language": "python",
   "name": "python3"
  },
  "language_info": {
   "codemirror_mode": {
    "name": "ipython",
    "version": 3
   },
   "file_extension": ".py",
   "mimetype": "text/x-python",
   "name": "python",
   "nbconvert_exporter": "python",
   "pygments_lexer": "ipython3",
   "version": "3.7.0"
  }
 },
 "nbformat": 4,
 "nbformat_minor": 2
}
