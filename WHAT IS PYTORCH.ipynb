{
 "cells": [
  {
   "cell_type": "markdown",
   "metadata": {},
   "source": [
    "## DEEP LEARNING WITH PYTORCH: A 60 MINUTE BLITZ\n",
    "### what is PyTorch\n",
    "#### Tensors"
   ]
  },
  {
   "cell_type": "code",
   "execution_count": 3,
   "metadata": {},
   "outputs": [],
   "source": [
    "from __future__ import print_function\n",
    "import torch"
   ]
  },
  {
   "cell_type": "code",
   "execution_count": 8,
   "metadata": {},
   "outputs": [
    {
     "name": "stdout",
     "output_type": "stream",
     "text": [
      "tensor([[0.0000e+00, 3.6893e+19, 0.0000e+00],\n",
      "        [3.6893e+19, 7.0065e-45, 0.0000e+00],\n",
      "        [0.0000e+00, 0.0000e+00, 0.0000e+00],\n",
      "        [0.0000e+00, 0.0000e+00, 0.0000e+00],\n",
      "        [0.0000e+00, 3.6893e+19, 6.4473e+07]])\n"
     ]
    }
   ],
   "source": [
    "# Construct a 5x3 matrix, uninitialized: ???\n",
    "x = torch.empty(5,3) \n",
    "print(x)"
   ]
  },
  {
   "cell_type": "markdown",
   "metadata": {},
   "source": [
    "Construct a randomly initialized matrix:"
   ]
  },
  {
   "cell_type": "code",
   "execution_count": 10,
   "metadata": {},
   "outputs": [
    {
     "data": {
      "text/plain": [
       "tensor([[0.4391, 0.3887, 0.0031, 0.2382],\n",
       "        [0.0832, 0.6832, 0.2891, 0.2200],\n",
       "        [0.0527, 0.4320, 0.1430, 0.3232],\n",
       "        [0.8111, 0.2369, 0.6401, 0.9743],\n",
       "        [0.4230, 0.2300, 0.9978, 0.0036],\n",
       "        [0.9032, 0.9622, 0.6629, 0.0880]])"
      ]
     },
     "execution_count": 10,
     "metadata": {},
     "output_type": "execute_result"
    }
   ],
   "source": [
    "x = torch.rand(6,4)\n",
    "x"
   ]
  },
  {
   "cell_type": "markdown",
   "metadata": {},
   "source": [
    "Construct a matrix filled zeros and of dtype long:"
   ]
  },
  {
   "cell_type": "code",
   "execution_count": 6,
   "metadata": {},
   "outputs": [
    {
     "name": "stdout",
     "output_type": "stream",
     "text": [
      "tensor([[0, 0, 0],\n",
      "        [0, 0, 0],\n",
      "        [0, 0, 0],\n",
      "        [0, 0, 0],\n",
      "        [0, 0, 0]])\n"
     ]
    }
   ],
   "source": [
    "x = torch.zeros(5, 3 ,dtype = torch.long)\n",
    "print(x)"
   ]
  },
  {
   "cell_type": "markdown",
   "metadata": {},
   "source": [
    "Construct a tensor directly from data:\n",
    "create a tensor based on an existing tensor. These methods will reuse properties of the input tensor, **e.g. dtype, unless new values are provided by user**"
   ]
  },
  {
   "cell_type": "code",
   "execution_count": 15,
   "metadata": {},
   "outputs": [
    {
     "name": "stdout",
     "output_type": "stream",
     "text": [
      "tensor([5.1000, 4.0000])\n",
      "tensor([ 0.8435, -0.6759])\n"
     ]
    }
   ],
   "source": [
    "x = torch.tensor([5.1,4])\n",
    "print(x)\n",
    "x = torch.randn_like(x, dtype = torch.float)\n",
    "print(x)"
   ]
  },
  {
   "cell_type": "code",
   "execution_count": 20,
   "metadata": {},
   "outputs": [
    {
     "name": "stdout",
     "output_type": "stream",
     "text": [
      "tensor([[1., 1., 1., 1.],\n",
      "        [1., 1., 1., 1.],\n",
      "        [1., 1., 1., 1.]], dtype=torch.float64) torch.Size([3, 4])\n"
     ]
    }
   ],
   "source": [
    "x = x.new_ones(3,4, dtype = torch.double)\n",
    "print(x,x.size())"
   ]
  },
  {
   "cell_type": "markdown",
   "metadata": {},
   "source": [
    "**Addition \"+\" ** "
   ]
  },
  {
   "cell_type": "code",
   "execution_count": 29,
   "metadata": {},
   "outputs": [
    {
     "name": "stdout",
     "output_type": "stream",
     "text": [
      "tensor([[1.8524, 1.0007, 1.8668, 1.5254],\n",
      "        [1.5798, 1.2654, 1.8589, 1.9564],\n",
      "        [1.0217, 1.2825, 1.9320, 1.6098]], dtype=torch.float64)\n"
     ]
    },
    {
     "data": {
      "text/plain": [
       "tensor([[1.8524, 1.0007, 1.8668, 1.5254],\n",
       "        [1.5798, 1.2654, 1.8589, 1.9564],\n",
       "        [1.0217, 1.2825, 1.9320, 1.6098]], dtype=torch.float64)"
      ]
     },
     "execution_count": 29,
     "metadata": {},
     "output_type": "execute_result"
    }
   ],
   "source": [
    "y = torch.rand(3, 4, dtype=torch.double )\n",
    "print(x+y)\n",
    "\n",
    "print(torch.add(x, y))\n",
    "\n",
    "print(torch.add(x,y, out = result))\n",
    "print(result)"
   ]
  },
  {
   "cell_type": "code",
   "execution_count": 28,
   "metadata": {},
   "outputs": [
    {
     "name": "stdout",
     "output_type": "stream",
     "text": [
      "tensor([[1, 1, 1, 1],\n",
      "        [1, 1, 1, 1]])\n"
     ]
    }
   ],
   "source": [
    "z = torch.tensor([1,2])\n",
    "z = z.new_ones(2, 4, dtype = torch.long)\n",
    "print(z)"
   ]
  },
  {
   "cell_type": "code",
   "execution_count": null,
   "metadata": {},
   "outputs": [],
   "source": []
  }
 ],
 "metadata": {
  "kernelspec": {
   "display_name": "Python 3",
   "language": "python",
   "name": "python3"
  },
  "language_info": {
   "codemirror_mode": {
    "name": "ipython",
    "version": 3
   },
   "file_extension": ".py",
   "mimetype": "text/x-python",
   "name": "python",
   "nbconvert_exporter": "python",
   "pygments_lexer": "ipython3",
   "version": "3.7.0"
  }
 },
 "nbformat": 4,
 "nbformat_minor": 2
}
