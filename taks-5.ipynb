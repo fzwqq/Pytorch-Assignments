{
 "cells": [
  {
   "cell_type": "code",
   "execution_count": 1,
   "metadata": {},
   "outputs": [],
   "source": [
    "import numpy as np\n"
   ]
  },
  {
   "cell_type": "code",
   "execution_count": 3,
   "metadata": {},
   "outputs": [],
   "source": [
    "def dropout(x, level):\n",
    "    if  level < 0. | level >= 1. :\n",
    "        raise Exception('error interval')\n",
    "    retain_porb = 1. - level\n",
    "    sample = np.random.binomial(n = 1 , p = retain_porb, size = x.shape)\n",
    "    print(sample)\n",
    "    x *= sample\n",
    "    x /= retain_prob\n",
    "    \n",
    "    return x"
   ]
  },
  {
   "cell_type": "code",
   "execution_count": 9,
   "metadata": {},
   "outputs": [],
   "source": [
    "import torch\n",
    "import torch.nn as nn\n",
    "import torch.nn.functional as F\n",
    "\n",
    "class Model(nn.Module):\n",
    "    def __init__(self):\n",
    "        super(Model,self).__init__()\n",
    "\n",
    "        self.fc1 = torch.nn.Linear(10,8)\n",
    "        self.fc2 = torch.nn.Linear(8,6)\n",
    "        self.fc3 = torch.nn.Linear(6,1)\n",
    "    \n",
    "    def forward(self , x):\n",
    "        x = F.relu(self.fc1(x))\n",
    "        x = F.dropout(x , p = 0.5)\n",
    "        x = F.relu(self.fc2(x))\n",
    "        x = F.dropout(x , p = 0.5)\n",
    "        \n",
    "        y_pred = torch.sigmoid(self.fc3(x))\n",
    "        \n",
    "        return y_pred"
   ]
  },
  {
   "cell_type": "code",
   "execution_count": 11,
   "metadata": {},
   "outputs": [],
   "source": [
    "import torchvision\n",
    "model=torchvision.models.vgg16()\n",
    "\n",
    "def Regularization(model):\n",
    "    L1 = 0\n",
    "    L2 = 0\n",
    "    for param in model.parameters():\n",
    "        L1 += torch.sum(torch.abs(param))\n",
    "        L2 += torch.norm(param , 2)\n",
    "    return L1 , L2\n",
    "# mnist=torchvision.datasets.mnist"
   ]
  },
  {
   "cell_type": "code",
   "execution_count": null,
   "metadata": {},
   "outputs": [],
   "source": []
  }
 ],
 "metadata": {
  "kernelspec": {
   "display_name": "Python 3",
   "language": "python",
   "name": "python3"
  },
  "language_info": {
   "codemirror_mode": {
    "name": "ipython",
    "version": 3
   },
   "file_extension": ".py",
   "mimetype": "text/x-python",
   "name": "python",
   "nbconvert_exporter": "python",
   "pygments_lexer": "ipython3",
   "version": "3.7.0"
  }
 },
 "nbformat": 4,
 "nbformat_minor": 2
}
