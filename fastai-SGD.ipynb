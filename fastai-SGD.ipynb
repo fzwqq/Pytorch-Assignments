{
 "cells": [
  {
   "cell_type": "code",
   "execution_count": 40,
   "metadata": {},
   "outputs": [],
   "source": [
    "%matplotlib inline\n",
    "import torch\n",
    "from fastai.basics import *\n",
    "import fastai\n"
   ]
  },
  {
   "cell_type": "code",
   "execution_count": 5,
   "metadata": {},
   "outputs": [],
   "source": [
    "n = 100"
   ]
  },
  {
   "cell_type": "code",
   "execution_count": 37,
   "metadata": {},
   "outputs": [
    {
     "data": {
      "text/plain": [
       "tensor([[-0.6707,  1.0000],\n",
       "        [-0.7426,  1.0000],\n",
       "        [ 0.2797,  1.0000],\n",
       "        [-0.5518,  1.0000],\n",
       "        [ 0.2569,  1.0000],\n",
       "        [ 0.4778,  1.0000],\n",
       "        [-0.9173,  1.0000],\n",
       "        [-0.7297,  1.0000],\n",
       "        [ 0.4027,  1.0000],\n",
       "        [ 0.6922,  1.0000]])"
      ]
     },
     "execution_count": 37,
     "metadata": {},
     "output_type": "execute_result"
    }
   ],
   "source": [
    "x = torch.ones(n,2)\n",
    "# print(x)\n",
    "\n",
    "x[:,0].uniform_(-1.,1)\n",
    "# output first 20 rows\n",
    "x[:10]\n"
   ]
  },
  {
   "cell_type": "code",
   "execution_count": 46,
   "metadata": {},
   "outputs": [
    {
     "data": {
      "image/png": "[encoded data removed]",
      "text/plain": [
       "<Figure size 432x288 with 1 Axes>"
      ]
     },
     "metadata": {
      "needs_background": "light"
     },
     "output_type": "display_data"
    }
   ],
   "source": [
    "a = torch.tensor([3.0,2])\n",
    "y = x @ a + torch.rand(n)\n",
    "# y = 3.0 * x + 2 * 1 + rand()[-1,1]\n",
    "plt.scatter(x[:,0] , y);"
   ]
  },
  {
   "cell_type": "markdown",
   "metadata": {},
   "source": [
    "$$ Loss =  \\sum_{i = 1}^{i = n}\\cfrac{(\\hat{y} - y)^2}{n} $$\n"
   ]
  },
  {
   "cell_type": "code",
   "execution_count": 56,
   "metadata": {},
   "outputs": [],
   "source": [
    "#  learn params a [3, 2+rand[-1,1]]\n",
    "def mse(y_hat , y):\n",
    "    return ((y_hat - y) ** 2).mean()\n",
    "    "
   ]
  },
  {
   "cell_type": "code",
   "execution_count": 90,
   "metadata": {},
   "outputs": [
    {
     "name": "stdout",
     "output_type": "stream",
     "text": [
      "tensor([-1.,  1.]) torch.FloatTensor\n"
     ]
    },
    {
     "data": {
      "text/plain": [
       "<matplotlib.collections.PathCollection at 0x11eb7f198>"
      ]
     },
     "execution_count": 90,
     "metadata": {},
     "output_type": "execute_result"
    },
    {
     "data": {
      "image/png": "[encoded data removed]",
      "text/plain": [
       "<Figure size 432x288 with 1 Axes>"
      ]
     },
     "metadata": {
      "needs_background": "light"
     },
     "output_type": "display_data"
    }
   ],
   "source": [
    "# init weights . e.g (-1,1)\n",
    "a = torch.tensor([-1.,1.0])\n",
    "y_hat = x @ a \n",
    "print(a, a.type())\n",
    "# print plot \n",
    "plt.scatter(x[:,0],y_hat)\n",
    "plt.scatter(x[:,0],y)"
   ]
  },
  {
   "cell_type": "code",
   "execution_count": 91,
   "metadata": {},
   "outputs": [],
   "source": [
    "a = nn.Parameter(a)\n",
    "lr = 0.01"
   ]
  },
  {
   "cell_type": "code",
   "execution_count": null,
   "metadata": {},
   "outputs": [],
   "source": []
  },
  {
   "cell_type": "code",
   "execution_count": 92,
   "metadata": {},
   "outputs": [],
   "source": [
    "def update(t):\n",
    "    y_hat = x @ a\n",
    "    loss = mse(y, y_hat)\n",
    "    if t % 100 == 0: \n",
    "        print(loss)\n",
    "    loss.backward()\n",
    "    with torch.no_grad():\n",
    "        a.sub_(lr * a.grad) \n",
    "        a.grad.zero_()"
   ]
  },
  {
   "cell_type": "code",
   "execution_count": 94,
   "metadata": {},
   "outputs": [
    {
     "name": "stdout",
     "output_type": "stream",
     "text": [
      "tensor(0.0711, grad_fn=<MeanBackward1>)\n",
      "tensor(0.0711, grad_fn=<MeanBackward1>)\n",
      "tensor(0.0711, grad_fn=<MeanBackward1>)\n",
      "tensor(0.0711, grad_fn=<MeanBackward1>)\n",
      "tensor(0.0711, grad_fn=<MeanBackward1>)\n",
      "tensor(0.0711, grad_fn=<MeanBackward1>)\n",
      "tensor(0.0711, grad_fn=<MeanBackward1>)\n",
      "tensor(0.0711, grad_fn=<MeanBackward1>)\n",
      "tensor(0.0711, grad_fn=<MeanBackward1>)\n",
      "tensor(0.0711, grad_fn=<MeanBackward1>)\n"
     ]
    },
    {
     "data": {
      "text/plain": [
       "<matplotlib.collections.PathCollection at 0x11f9b2390>"
      ]
     },
     "execution_count": 94,
     "metadata": {},
     "output_type": "execute_result"
    },
    {
     "data": {
      "image/png": "[encoded data removed]",
      "text/plain": [
       "<Figure size 432x288 with 1 Axes>"
      ]
     },
     "metadata": {
      "needs_background": "light"
     },
     "output_type": "display_data"
    }
   ],
   "source": [
    "epochs = 1000\n",
    "for epoch in range(epochs):\n",
    "    update(epoch)\n",
    "plt.scatter(x[:,0],y)\n",
    "y_hat = x @ a\n",
    "plt.scatter(x[:,0],y_hat)\n",
    " "
   ]
  },
  {
   "cell_type": "code",
   "execution_count": 21,
   "metadata": {},
   "outputs": [
    {
     "name": "stdout",
     "output_type": "stream",
     "text": [
      "[[ 0.53357081  0.82348664  0.2606407 ]\n",
      " [ 0.62388285  0.75781679 -1.25702566]\n",
      " [-0.8751937   0.58329487 -0.28917876]]\n"
     ]
    },
    {
     "data": {
      "text/plain": [
       "array([ 0.2606407 , -1.25702566])"
      ]
     },
     "execution_count": 21,
     "metadata": {},
     "output_type": "execute_result"
    }
   ],
   "source": [
    "import numpy as np\n",
    "\n",
    "x = np.random.randn(3,3)\n",
    "print(x)\n",
    "x[:2]\n",
    "# 前两行,第三列\n",
    "x[:2,2]"
   ]
  },
  {
   "cell_type": "code",
   "execution_count": 112,
   "metadata": {},
   "outputs": [
    {
     "name": "stdout",
     "output_type": "stream",
     "text": [
      "tensor([2., 3.], grad_fn=<AddBackward0>)\n",
      "tensor([12., 27.], grad_fn=<MulBackward0>)\n",
      "None\n",
      "tensor(19.5000, grad_fn=<MeanBackward1>)\n",
      "tensor([6., 9.])\n"
     ]
    }
   ],
   "source": [
    "# y = torch.tensor((1.0,2),requires_grad=True)\n",
    "x = torch.tensor((1.0,2), requires_grad = True)\n",
    "y = x + 1\n",
    "z = y * y * 3 \n",
    "print(y)\n",
    "print(z)\n",
    "z.requires_grad_(True)\n",
    "print(z.grad)\n",
    "\n",
    "\n",
    "out = z.mean()\n",
    "print(out)\n",
    "out.backward()\n",
    "print(x.grad)"
   ]
  },
  {
   "cell_type": "code",
   "execution_count": 127,
   "metadata": {},
   "outputs": [
    {
     "name": "stdout",
     "output_type": "stream",
     "text": [
      "tensor([-0.6609,  1.6577, -0.3388], grad_fn=<MulBackward0>)\n",
      "tensor([-676.7324, 1697.5181, -346.9022], grad_fn=<MulBackward0>)\n"
     ]
    },
    {
     "data": {
      "text/plain": [
       "tensor([2.0480e+02, 2.0480e+03, 2.0480e-01])"
      ]
     },
     "execution_count": 127,
     "metadata": {},
     "output_type": "execute_result"
    }
   ],
   "source": [
    "x = torch.randn(3 , requires_grad = True)\n",
    "y = x * 2\n",
    "print(y)\n",
    "while y.data.norm() < 1000:\n",
    "    y = y * 2\n",
    "print(y)\n",
    "v = torch.tensor([0.1, 1.0 , 0.0001], dtype = torch.float)\n",
    "y.backward(v)\n",
    "x.grad"
   ]
  },
  {
   "cell_type": "code",
   "execution_count": null,
   "metadata": {},
   "outputs": [],
   "source": []
  },
  {
   "cell_type": "code",
   "execution_count": null,
   "metadata": {},
   "outputs": [],
   "source": []
  }
 ],
 "metadata": {
  "kernelspec": {
   "display_name": "Python 3",
   "language": "python",
   "name": "python3"
  },
  "language_info": {
   "codemirror_mode": {
    "name": "ipython",
    "version": 3
   },
   "file_extension": ".py",
   "mimetype": "text/x-python",
   "name": "python",
   "nbconvert_exporter": "python",
   "pygments_lexer": "ipython3",
   "version": "3.7.0"
  }
 },
 "nbformat": 4,
 "nbformat_minor": 2
}
