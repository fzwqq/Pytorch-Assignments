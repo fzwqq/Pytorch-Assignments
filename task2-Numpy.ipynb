{
 "cells": [
  {
   "cell_type": "code",
   "execution_count": 12,
   "metadata": {},
   "outputs": [
    {
     "name": "stdout",
     "output_type": "stream",
     "text": [
      "7.5\n",
      "9.375\n",
      "9.84375\n",
      "9.9609375\n",
      "9.990234375\n",
      "9.99755859375\n",
      "9.9993896484375\n",
      "9.999847412109375\n",
      "9.999961853027344\n",
      "9.999990463256836\n"
     ]
    }
   ],
   "source": [
    "import numpy as np\n",
    "# liner regression \n",
    "# predict y = 10*x \n",
    "x_data = np.array([1,2,3,4])\n",
    "y_data = x_data*10\n",
    "\n",
    "# learning rate\n",
    "lr = 0.1\n",
    "epoches = 10\n",
    "w = 0\n",
    "cost = []\n",
    "\n",
    "for epoch in range(epoches):\n",
    "    yhat = x_data*w \n",
    "    loss = np.average(1/2 * (yhat - y_data)**2)\n",
    "    \n",
    "    cost.append(loss) \n",
    "    dw = -(y_data - yhat) @ x_data.T / (x_data.shape[0])\n",
    "#     print(dw)\n",
    "#     update params\n",
    "    w = w - lr*dw\n",
    "    print(w)"
   ]
  },
  {
   "cell_type": "code",
   "execution_count": null,
   "metadata": {},
   "outputs": [],
   "source": []
  }
 ],
 "metadata": {
  "kernelspec": {
   "display_name": "Python 3",
   "language": "python",
   "name": "python3"
  },
  "language_info": {
   "codemirror_mode": {
    "name": "ipython",
    "version": 3
   },
   "file_extension": ".py",
   "mimetype": "text/x-python",
   "name": "python",
   "nbconvert_exporter": "python",
   "pygments_lexer": "ipython3",
   "version": "3.7.0"
  }
 },
 "nbformat": 4,
 "nbformat_minor": 2
}
